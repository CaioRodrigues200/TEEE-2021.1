{
 "cells": [
  {
   "cell_type": "code",
   "execution_count": 1,
   "metadata": {
    "id": "al6ieDQxN8MB"
   },
   "outputs": [],
   "source": [
    "import numpy as np\n",
    "import matplotlib.pyplot as plt\n",
    "from numpy.lib import scimath as SM\n",
    "import dslab"
   ]
  },
  {
   "cell_type": "markdown",
   "metadata": {},
   "source": [
    "# Parâmetros iniciais"
   ]
  },
  {
   "cell_type": "code",
   "execution_count": 2,
   "metadata": {
    "id": "Dsvw9wfCOHGi"
   },
   "outputs": [],
   "source": [
    "n1 = 1.5\n",
    "n2 = 1.499\n",
    "n3 = n2\n",
    "n4 = n2\n",
    "n5 = n2\n",
    "\n",
    "p2 = (n1/n2)**2\n",
    "p3 = (n1/n3)**2\n",
    "p4 = (n1/n4)**2\n",
    "p5 = (n1/n5)**2\n",
    "\n",
    "a = 20e-6\n",
    "b = 20e-6\n",
    "\n",
    "numOfPoints = 1000\n",
    "\n",
    "lambda_min = 1.3e-6\n",
    "lambda_max = 2.0e-6\n",
    "\n",
    "k0 = 2*np.pi/lambda_min"
   ]
  },
  {
   "cell_type": "markdown",
   "metadata": {},
   "source": [
    "## Parâmetros modais"
   ]
  },
  {
   "cell_type": "code",
   "execution_count": 3,
   "metadata": {
    "id": "GW5uDmvoOXJh"
   },
   "outputs": [],
   "source": [
    "kx = np.linspace(0, k0*SM.sqrt(n1**2-n2**2), numOfPoints)\n",
    "ky = np.linspace(0, k0*SM.sqrt(n1**2-n2**2), numOfPoints)\n",
    "gamma_2 = SM.sqrt(k0**2*(n1**2-n2**2)-kx**2)\n",
    "gamma_3 = SM.sqrt(k0**2*(n1**2-n3**2)-kx**2)\n",
    "gamma_4 = SM.sqrt(k0**2*(n1**2-n4**2)-ky**2)\n",
    "gamma_5 = SM.sqrt(k0**2*(n1**2-n5**2)-ky**2)"
   ]
  },
  {
   "cell_type": "code",
   "execution_count": 4,
   "metadata": {},
   "outputs": [
    {
     "ename": "NameError",
     "evalue": "name 'a' is not defined",
     "output_type": "error",
     "traceback": [
      "\u001b[1;31m---------------------------------------------------------------------------\u001b[0m",
      "\u001b[1;31mNameError\u001b[0m                                 Traceback (most recent call last)",
      "\u001b[1;32mc:\\Users\\Caio\\Documents\\GitHub\\TEEE-2021.1\\Subject Exercises\\Exercício 03\\MercatiliDeAdolfo.ipynb Cell 6'\u001b[0m in \u001b[0;36m<module>\u001b[1;34m\u001b[0m\n\u001b[0;32m      <a href='vscode-notebook-cell:/c%3A/Users/Caio/Documents/GitHub/TEEE-2021.1/Subject%20Exercises/Exerc%C3%ADcio%2003/MercatiliDeAdolfo.ipynb#ch0000005?line=0'>1</a>\u001b[0m \u001b[39m# Ex_nm modes\u001b[39;00m\n\u001b[1;32m----> <a href='vscode-notebook-cell:/c%3A/Users/Caio/Documents/GitHub/TEEE-2021.1/Subject%20Exercises/Exerc%C3%ADcio%2003/MercatiliDeAdolfo.ipynb#ch0000005?line=1'>2</a>\u001b[0m kySol \u001b[39m=\u001b[39m dslab\u001b[39m.\u001b[39;49mmercatilli(n1, n4, n5, lambda_min, b, \u001b[39m'\u001b[39;49m\u001b[39mTE\u001b[39;49m\u001b[39m'\u001b[39;49m, \u001b[39m'\u001b[39;49m\u001b[39mnone\u001b[39;49m\u001b[39m'\u001b[39;49m, \u001b[39m0.1\u001b[39;49m)\n\u001b[0;32m      <a href='vscode-notebook-cell:/c%3A/Users/Caio/Documents/GitHub/TEEE-2021.1/Subject%20Exercises/Exerc%C3%ADcio%2003/MercatiliDeAdolfo.ipynb#ch0000005?line=2'>3</a>\u001b[0m kxSol \u001b[39m=\u001b[39m dslab\u001b[39m.\u001b[39mmercatilli(n1, n2, n3, lambda_min, a, \u001b[39m'\u001b[39m\u001b[39mTM\u001b[39m\u001b[39m'\u001b[39m, \u001b[39m'\u001b[39m\u001b[39mnone\u001b[39m\u001b[39m'\u001b[39m, \u001b[39m0.5\u001b[39m)\n",
      "File \u001b[1;32mc:\\Users\\Caio\\Documents\\GitHub\\TEEE-2021.1\\Subject Exercises\\Exercício 03\\dslab.py:91\u001b[0m, in \u001b[0;36mmercatilli\u001b[1;34m(nf, nc, ns, lmbd, h, mode, m, r)\u001b[0m\n\u001b[0;32m     <a href='file:///c%3A/Users/Caio/Documents/GitHub/TEEE-2021.1/Subject%20Exercises/Exerc%C3%ADcio%2003/dslab.py?line=88'>89</a>\u001b[0m Nit \u001b[39m=\u001b[39m \u001b[39m1\u001b[39m\n\u001b[0;32m     <a href='file:///c%3A/Users/Caio/Documents/GitHub/TEEE-2021.1/Subject%20Exercises/Exerc%C3%ADcio%2003/dslab.py?line=89'>90</a>\u001b[0m \u001b[39mwhile\u001b[39;00m \u001b[39mTrue\u001b[39;00m:\n\u001b[1;32m---> <a href='file:///c%3A/Users/Caio/Documents/GitHub/TEEE-2021.1/Subject%20Exercises/Exerc%C3%ADcio%2003/dslab.py?line=90'>91</a>\u001b[0m   k_new \u001b[39m=\u001b[39m \u001b[39m2\u001b[39m\u001b[39m/\u001b[39ma\u001b[39m*\u001b[39m(m \u001b[39m*\u001b[39m np\u001b[39m.\u001b[39mpi \u001b[39m+\u001b[39m np\u001b[39m.\u001b[39marctan((pc\u001b[39m*\u001b[39mps\u001b[39m*\u001b[39mgamma_c\u001b[39m*\u001b[39mgamma_s\u001b[39m-\u001b[39mk\u001b[39m*\u001b[39m\u001b[39m*\u001b[39m\u001b[39m2\u001b[39m)\u001b[39m-\u001b[39mGc\u001b[39m*\u001b[39mGs)\u001b[39m/\u001b[39m(k\u001b[39m*\u001b[39m(pc\u001b[39m*\u001b[39mgamma_c\u001b[39m+\u001b[39mps\u001b[39m*\u001b[39mgamma_s)))    \n\u001b[0;32m     <a href='file:///c%3A/Users/Caio/Documents/GitHub/TEEE-2021.1/Subject%20Exercises/Exerc%C3%ADcio%2003/dslab.py?line=91'>92</a>\u001b[0m   \u001b[39m#k_new = ((pc*ps*Kc*Ks)**2-(Gc*Gs)**2*(np.cos(k*h))**2+((pc*ps)**2-1)*k**4)\u001b[39;00m\n\u001b[0;32m     <a href='file:///c%3A/Users/Caio/Documents/GitHub/TEEE-2021.1/Subject%20Exercises/Exerc%C3%ADcio%2003/dslab.py?line=92'>93</a>\u001b[0m   \u001b[39m#k_new = SM.sqrt(k_new/(((pc*ps)**2)*(Kc**2+Ks**2)+2*Gc*Gs*np.cos(k*h)))\u001b[39;00m\n\u001b[0;32m     <a href='file:///c%3A/Users/Caio/Documents/GitHub/TEEE-2021.1/Subject%20Exercises/Exerc%C3%ADcio%2003/dslab.py?line=93'>94</a>\u001b[0m   \u001b[39m#k_new = Kc/(SM.sqrt(1+(pc**-2)*(np.tan(k*h/2))**2))\u001b[39;00m\n\u001b[0;32m     <a href='file:///c%3A/Users/Caio/Documents/GitHub/TEEE-2021.1/Subject%20Exercises/Exerc%C3%ADcio%2003/dslab.py?line=94'>95</a>\u001b[0m   \u001b[39m#k_new = r*k_new + (1-r)*k\u001b[39;00m\n\u001b[0;32m     <a href='file:///c%3A/Users/Caio/Documents/GitHub/TEEE-2021.1/Subject%20Exercises/Exerc%C3%ADcio%2003/dslab.py?line=95'>96</a>\u001b[0m   \u001b[39mif\u001b[39;00m np\u001b[39m.\u001b[39many(np\u001b[39m.\u001b[39mabs(k_new\u001b[39m-\u001b[39mk) \u001b[39m<\u001b[39m\u001b[39m=\u001b[39m tol):\n",
      "\u001b[1;31mNameError\u001b[0m: name 'a' is not defined"
     ]
    }
   ],
   "source": [
    "# Ex_nm modes\n",
    "kySol = dslab.mercatilli(n1, n4, n5, lambda_min, b, 'TE', 'none', 0.1)\n",
    "kxSol = dslab.mercatilli(n1, n2, n3, lambda_min, a, 'TM', 'none', 0.5)"
   ]
  },
  {
   "cell_type": "code",
   "execution_count": null,
   "metadata": {},
   "outputs": [],
   "source": []
  },
  {
   "cell_type": "code",
   "execution_count": null,
   "metadata": {},
   "outputs": [],
   "source": [
    "f1 = np.tan(ky*b)\n",
    "f1 = f1 - ky*(gamma_4+gamma_5)/(ky**2 - gamma_4*gamma_5)\n",
    "f1[:-1][np.diff(f1) > 5] = np.nan\n",
    "\n",
    "f2 = np.tan(kx*a)\n",
    "f2 = f2 - kx*(gamma_2*p2 + gamma_3*p3)/(kx**2 - p2*p3*gamma_2*gamma_3)\n",
    "f2[:-1][np.diff(f2) > 5] = np.nan"
   ]
  },
  {
   "cell_type": "code",
   "execution_count": null,
   "metadata": {},
   "outputs": [],
   "source": []
  },
  {
   "cell_type": "code",
   "execution_count": null,
   "metadata": {
    "colab": {
     "base_uri": "https://localhost:8080/",
     "height": 283
    },
    "id": "CLOxQ_ILbH3e",
    "outputId": "851b41be-743b-46eb-a93d-0a8fdf8e136f"
   },
   "outputs": [],
   "source": [
    "%matplotlib qt\n",
    "font = {'family' : 'serif',\n",
    "        'weight' : 'normal',\n",
    "        'size'   : 16}\n",
    "fig1, axs1 = plt.subplots(1,2,figsize=(12,6))\n",
    "plt.rc('font', **font)\n",
    "plt.rc('axes', linewidth=2)\n",
    "\n",
    "axs1[0].plot(ky, f1, linewidth = 2)\n",
    "#axs1[0].plot(kySol/k0, np.zeros(np.size(kySol)), 'ro')\n",
    "axs1[0].set_ylim([-5,5])\n",
    "#axs1[0].set_xlim([0, SM.sqrt(n1**2-n2**2)])\n",
    "axs1[0].set_title(r'$E^x_{nm} - k_y$')\n",
    "axs1[0].grid(True)\n",
    "\n",
    "axs1[1].plot(kx, f2, linewidth = 2)\n",
    "axs1[1].plot(kxSol/k0, np.zeros(np.size(kxSol)), 'ro')\n",
    "axs1[1].set_ylim([-5,5])\n",
    "#axs1[1].set_xlim([0, SM.sqrt(n1**2-n2**2)])\n",
    "axs1[1].set_title(r'$E^x_{nm} - k_x$')\n",
    "axs1[1].grid(True)"
   ]
  },
  {
   "cell_type": "markdown",
   "metadata": {},
   "source": [
    "## Constante de propagação normalizada versus freq. normalizada"
   ]
  },
  {
   "cell_type": "code",
   "execution_count": null,
   "metadata": {
    "colab": {
     "base_uri": "https://localhost:8080/",
     "height": 269
    },
    "id": "EktL3wIRzFTj",
    "outputId": "d35eda50-8952-45be-fbb2-eee2e2ded702"
   },
   "outputs": [],
   "source": [
    "lmbd = np.linspace(lambda_min, lambda_max, numOfPoints)\n",
    "k0 = 2*np.pi/lmbd\n",
    "Vv = k0 * np.min(np.array([a, b])) * np.sqrt(n1**2-dslab.find_nearest(np.array([n2, n3, n4, n5])**2, n1))\n",
    "kySol = dslab.mercatilli(n1, n4, n5, lmbd, b, 'TE', 0, 0.1)\n",
    "kxSol = dslab.mercatilli(n1, n2, n3, lmbd, a, 'TM', 0, 0.5)\n",
    "beta = np.sqrt((k0*n1)**2-kxSol**2-kySol**2)\n",
    "bn = ((beta/k0)**2-n2**2)/(n1**2 - n2**2)"
   ]
  },
  {
   "cell_type": "code",
   "execution_count": null,
   "metadata": {},
   "outputs": [],
   "source": [
    "fig2 = plt.figure(figsize=(8,6))\n",
    "plt.plot(Vv, bn, linewidth = 2)\n",
    "plt.plot()\n",
    "plt.xlabel('$V$ - Freq. normalizada')\n",
    "plt.ylabel('$b$ - Const. prop. normalizada')\n",
    "plt.xlim([0.8,3.2])\n",
    "plt.ylim([-0.5,0.6])\n",
    "plt.grid(True)"
   ]
  },
  {
   "cell_type": "markdown",
   "metadata": {},
   "source": [
    "## Electrical field"
   ]
  },
  {
   "cell_type": "code",
   "execution_count": null,
   "metadata": {},
   "outputs": [
    {
     "data": {
      "text/plain": [
       "113004.07586948587"
      ]
     },
     "execution_count": 259,
     "metadata": {},
     "output_type": "execute_result"
    }
   ],
   "source": [
    "kxSol[0]"
   ]
  },
  {
   "cell_type": "code",
   "execution_count": null,
   "metadata": {},
   "outputs": [],
   "source": [
    "idxSol = 0\n",
    "idySol = 0\n",
    "gamma_2 = SM.sqrt(k0[idxSol]**2*(n1**2-n2**2)-kxSol[idxSol]**2)\n",
    "gamma_3 = SM.sqrt(k0[idxSol]**2*(n1**2-n3**2)-kxSol[idxSol]**2)\n",
    "gamma_4 = SM.sqrt(k0[idxSol]**2*(n1**2-n4**2)-kySol[idySol]**2)\n",
    "gamma_5 = SM.sqrt(k0[idxSol]**2*(n1**2-n5**2)-kySol[idySol]**2)\n",
    "\n",
    "phix = np.arctan(-kxSol[idxSol]/(p3*gamma_3))\n",
    "phiy = np.arctan(-gamma_5/kySol[idySol])"
   ]
  },
  {
   "cell_type": "code",
   "execution_count": null,
   "metadata": {},
   "outputs": [
    {
     "data": {
      "text/plain": [
       "-0.4405941674002454"
      ]
     },
     "execution_count": 261,
     "metadata": {},
     "output_type": "execute_result"
    }
   ],
   "source": [
    "phix"
   ]
  },
  {
   "cell_type": "code",
   "execution_count": null,
   "metadata": {
    "colab": {
     "base_uri": "https://localhost:8080/",
     "height": 485
    },
    "id": "8uwzSdi5ScIO",
    "outputId": "1a2f89b6-7943-489f-b67d-8d8093f7874b"
   },
   "outputs": [
    {
     "data": {
      "text/plain": [
       "Text(0.5, 0, 'y')"
      ]
     },
     "execution_count": 262,
     "metadata": {},
     "output_type": "execute_result"
    }
   ],
   "source": [
    "fig3, ax = plt.subplots(subplot_kw={\"projection\": \"3d\"}, figsize = (8,8))\n",
    "\n",
    "A1 = 1\n",
    "A2 = np.sin(-kxSol[idxSol] * a + phix )\n",
    "A3 = np.sin(phix)\n",
    "A4 = p4 * np.cos(kySol[idySol] * b + phiy)\n",
    "A5 = p5 * np.cos(phiy)\n",
    "\n",
    "x = np.linspace(-a, 0, 100)\n",
    "y = np.linspace( 0, b, 100)\n",
    "X,Y = np.meshgrid(x, y)\n",
    "Z1  = A1 * np.sin(kxSol[idxSol] * X + phix) * np.cos(kySol[idySol] * Y + phiy)\n",
    "ax.plot_surface(1e6*X, 1e6*Y, Z1*np.conjugate(Z1))\n",
    "\n",
    "x   = np.linspace(-2*a, -a, 100)\n",
    "X,Y = np.meshgrid(x, y)\n",
    "Z2  = A2 * np.exp(gamma_2 * (X + a)) * np.cos(kySol[idySol] * Y + phiy)\n",
    "ax.plot_surface(1e6*X, 1e6*Y, Z2*np.conjugate(Z2))\n",
    "\n",
    "x   = np.linspace(0, a, 100)\n",
    "X,Y = np.meshgrid(x, y)\n",
    "Z3  = A3 * np.exp(-gamma_3 * X) * np.cos(kySol[idySol] * Y + phiy)\n",
    "ax.plot_surface(1e6*X, 1e6*Y, Z3*np.conjugate(Z3))\n",
    "\n",
    "x = np.linspace(-a, 0, 100)\n",
    "y = np.linspace(b, 2*b, 500)\n",
    "X, Y = np.meshgrid(x, y)\n",
    "Z4 = A4 * np.exp(-gamma_4 * (Y - b)) * np.sin(kxSol[idxSol] * X + phix)\n",
    "ax.plot_surface(1e6*X, 1e6*Y, Z4*np.conjugate(Z4))\n",
    "\n",
    "y = np.linspace(-b, 0, 500)\n",
    "X, Y = np.meshgrid(x, y)\n",
    "Z5 = A5 * np.exp(gamma_5 * Y) * np.sin( kxSol[idxSol] * X + phix)\n",
    "ax.plot_surface(1e6*X, 1e6*Y, Z5*np.conjugate(Z5))\n",
    "\n",
    "ax.view_init(30,45)\n",
    "ax.set_xlabel('x')\n",
    "ax.set_ylabel('y')"
   ]
  },
  {
   "cell_type": "code",
   "execution_count": null,
   "metadata": {},
   "outputs": [],
   "source": []
  }
 ],
 "metadata": {
  "colab": {
   "name": "Marcatilli_exemplo.ipynb",
   "provenance": []
  },
  "kernelspec": {
   "display_name": "Python 3 (Spyder)",
   "language": "python3",
   "name": "python3"
  },
  "language_info": {
   "codemirror_mode": {
    "name": "ipython",
    "version": 3
   },
   "file_extension": ".py",
   "mimetype": "text/x-python",
   "name": "python",
   "nbconvert_exporter": "python",
   "pygments_lexer": "ipython3",
   "version": "3.10.2"
  }
 },
 "nbformat": 4,
 "nbformat_minor": 4
}
